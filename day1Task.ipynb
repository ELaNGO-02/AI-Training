{
  "nbformat": 4,
  "nbformat_minor": 0,
  "metadata": {
    "colab": {
      "provenance": [],
      "toc_visible": true,
      "authorship_tag": "ABX9TyOpCmMPxICJtoK8QtY9qgHs",
      "include_colab_link": true
    },
    "kernelspec": {
      "name": "python3",
      "display_name": "Python 3"
    },
    "language_info": {
      "name": "python"
    }
  },
  "cells": [
    {
      "cell_type": "markdown",
      "metadata": {
        "id": "view-in-github",
        "colab_type": "text"
      },
      "source": [
        "<a href=\"https://colab.research.google.com/github/ELaNGO-02/AI-Training/blob/main/day1Task.ipynb\" target=\"_parent\"><img src=\"https://colab.research.google.com/assets/colab-badge.svg\" alt=\"Open In Colab\"/></a>"
      ]
    },
    {
      "cell_type": "code",
      "execution_count": null,
      "metadata": {
        "colab": {
          "base_uri": "https://localhost:8080/"
        },
        "id": "XF9IlmKANKwo",
        "outputId": "33a2f34e-8067-432d-822c-7fd4b436d97d"
      },
      "outputs": [
        {
          "output_type": "stream",
          "name": "stdout",
          "text": [
            "Hello world\n"
          ]
        }
      ],
      "source": [
        "print(\"Hello world\");"
      ]
    },
    {
      "cell_type": "code",
      "source": [
        "import pandas as pd\n",
        "import matplotlib.pyplot as plt\n",
        "import seaborn as sns"
      ],
      "metadata": {
        "id": "2NshCKb7N60g"
      },
      "execution_count": null,
      "outputs": []
    },
    {
      "cell_type": "code",
      "source": [
        "print(pd);"
      ],
      "metadata": {
        "colab": {
          "base_uri": "https://localhost:8080/"
        },
        "id": "51cUz-oOORMr",
        "outputId": "46570f0b-93c3-4c31-e04c-84f6e3bc6186"
      },
      "execution_count": null,
      "outputs": [
        {
          "output_type": "stream",
          "name": "stdout",
          "text": [
            "<module 'pandas' from '/usr/local/lib/python3.11/dist-packages/pandas/__init__.py'>\n"
          ]
        }
      ]
    },
    {
      "cell_type": "code",
      "source": [
        "data = pd.read_csv('students.csv')"
      ],
      "metadata": {
        "id": "gFH5iN-ZOZff"
      },
      "execution_count": null,
      "outputs": []
    },
    {
      "cell_type": "markdown",
      "source": [],
      "metadata": {
        "id": "8ryZ9i7KRs5S"
      }
    },
    {
      "cell_type": "code",
      "source": [
        "print(data)"
      ],
      "metadata": {
        "colab": {
          "base_uri": "https://localhost:8080/"
        },
        "id": "-i0rt4fdSpae",
        "outputId": "32560144-b1c1-43c1-e8ad-96e4b7710c34"
      },
      "execution_count": null,
      "outputs": [
        {
          "output_type": "stream",
          "name": "stdout",
          "text": [
            "      Name  Age  Gender  Marks        City  Attendance\n",
            "0     Arun   20    Male     85     Chennai        90.0\n",
            "1    Priya   21  Female     90  Coimbatore        95.0\n",
            "2  Karthik   22    Male     76     Madurai         NaN\n",
            "3    Divya   20  Female     88     Chennai        85.0\n",
            "4    Rahul   23    Male     92      Trichy        88.0\n",
            "5    Meena   22  Female     67  Coimbatore         NaN\n",
            "6   Vikram   21    Male     73     Madurai        92.0\n",
            "7    Anita   20  Female     95     Chennai        94.0\n",
            "8   Suresh   24    Male     80      Trichy        89.0\n",
            "9  Lakshmi   22  Female     89     Madurai         NaN\n"
          ]
        }
      ]
    },
    {
      "cell_type": "code",
      "source": [
        "print(data.head());"
      ],
      "metadata": {
        "colab": {
          "base_uri": "https://localhost:8080/"
        },
        "id": "hzzZ2oWvS3eI",
        "outputId": "173446cb-a5d4-4234-f457-2031f37d9f12"
      },
      "execution_count": null,
      "outputs": [
        {
          "output_type": "stream",
          "name": "stdout",
          "text": [
            "      Name  Age  Gender  Marks        City  Attendance\n",
            "0     Arun   20    Male     85     Chennai        90.0\n",
            "1    Priya   21  Female     90  Coimbatore        95.0\n",
            "2  Karthik   22    Male     76     Madurai         NaN\n",
            "3    Divya   20  Female     88     Chennai        85.0\n",
            "4    Rahul   23    Male     92      Trichy        88.0\n"
          ]
        }
      ]
    },
    {
      "cell_type": "code",
      "source": [
        "data.dtypes"
      ],
      "metadata": {
        "colab": {
          "base_uri": "https://localhost:8080/",
          "height": 272
        },
        "id": "qcyeQfWsTNM6",
        "outputId": "7f982772-ebc3-447d-ff78-5ff1bc405960"
      },
      "execution_count": null,
      "outputs": [
        {
          "output_type": "execute_result",
          "data": {
            "text/plain": [
              "Name           object\n",
              "Age             int64\n",
              "Gender         object\n",
              "Marks           int64\n",
              "City           object\n",
              "Attendance    float64\n",
              "dtype: object"
            ],
            "text/html": [
              "<div>\n",
              "<style scoped>\n",
              "    .dataframe tbody tr th:only-of-type {\n",
              "        vertical-align: middle;\n",
              "    }\n",
              "\n",
              "    .dataframe tbody tr th {\n",
              "        vertical-align: top;\n",
              "    }\n",
              "\n",
              "    .dataframe thead th {\n",
              "        text-align: right;\n",
              "    }\n",
              "</style>\n",
              "<table border=\"1\" class=\"dataframe\">\n",
              "  <thead>\n",
              "    <tr style=\"text-align: right;\">\n",
              "      <th></th>\n",
              "      <th>0</th>\n",
              "    </tr>\n",
              "  </thead>\n",
              "  <tbody>\n",
              "    <tr>\n",
              "      <th>Name</th>\n",
              "      <td>object</td>\n",
              "    </tr>\n",
              "    <tr>\n",
              "      <th>Age</th>\n",
              "      <td>int64</td>\n",
              "    </tr>\n",
              "    <tr>\n",
              "      <th>Gender</th>\n",
              "      <td>object</td>\n",
              "    </tr>\n",
              "    <tr>\n",
              "      <th>Marks</th>\n",
              "      <td>int64</td>\n",
              "    </tr>\n",
              "    <tr>\n",
              "      <th>City</th>\n",
              "      <td>object</td>\n",
              "    </tr>\n",
              "    <tr>\n",
              "      <th>Attendance</th>\n",
              "      <td>float64</td>\n",
              "    </tr>\n",
              "  </tbody>\n",
              "</table>\n",
              "</div><br><label><b>dtype:</b> object</label>"
            ]
          },
          "metadata": {},
          "execution_count": 20
        }
      ]
    },
    {
      "cell_type": "code",
      "source": [
        "data.info()"
      ],
      "metadata": {
        "colab": {
          "base_uri": "https://localhost:8080/"
        },
        "id": "4EdkL4t_Ufd1",
        "outputId": "a4913fdd-4960-4fba-e88f-6482cb8c637a"
      },
      "execution_count": null,
      "outputs": [
        {
          "output_type": "stream",
          "name": "stdout",
          "text": [
            "<class 'pandas.core.frame.DataFrame'>\n",
            "RangeIndex: 10 entries, 0 to 9\n",
            "Data columns (total 6 columns):\n",
            " #   Column      Non-Null Count  Dtype  \n",
            "---  ------      --------------  -----  \n",
            " 0   Name        10 non-null     object \n",
            " 1   Age         10 non-null     int64  \n",
            " 2   Gender      10 non-null     object \n",
            " 3   Marks       10 non-null     int64  \n",
            " 4   City        10 non-null     object \n",
            " 5   Attendance  7 non-null      float64\n",
            "dtypes: float64(1), int64(2), object(3)\n",
            "memory usage: 612.0+ bytes\n"
          ]
        }
      ]
    },
    {
      "cell_type": "code",
      "source": [],
      "metadata": {
        "id": "Z108NfQBYFja"
      },
      "execution_count": null,
      "outputs": []
    }
  ]
}