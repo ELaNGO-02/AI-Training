{
  "nbformat": 4,
  "nbformat_minor": 0,
  "metadata": {
    "colab": {
      "provenance": [],
      "authorship_tag": "ABX9TyMCgQNcjda8VjMFWwWoN784",
      "include_colab_link": true
    },
    "kernelspec": {
      "name": "python3",
      "display_name": "Python 3"
    },
    "language_info": {
      "name": "python"
    }
  },
  "cells": [
    {
      "cell_type": "markdown",
      "metadata": {
        "id": "view-in-github",
        "colab_type": "text"
      },
      "source": [
        "<a href=\"https://colab.research.google.com/github/ELaNGO-02/AI-Training/blob/main/RefresherBasics.ipynb\" target=\"_parent\"><img src=\"https://colab.research.google.com/assets/colab-badge.svg\" alt=\"Open In Colab\"/></a>"
      ]
    },
    {
      "cell_type": "markdown",
      "source": [
        "# print statement as we know"
      ],
      "metadata": {
        "id": "YKoslqTg9kQY"
      }
    },
    {
      "cell_type": "code",
      "execution_count": 2,
      "metadata": {
        "colab": {
          "base_uri": "https://localhost:8080/"
        },
        "id": "Ys9bFpIb9R2Q",
        "outputId": "3c07dd77-b5b0-4190-b331-005a757f2b54"
      },
      "outputs": [
        {
          "output_type": "stream",
          "name": "stdout",
          "text": [
            "hello world\n"
          ]
        }
      ],
      "source": [
        "print(\"hello world\")"
      ]
    },
    {
      "cell_type": "markdown",
      "source": [
        "# VARIABLES"
      ],
      "metadata": {
        "id": "PvN6OI-U96LT"
      }
    },
    {
      "cell_type": "code",
      "source": [
        "name = \"elango\"\n",
        "age = 20\n",
        "isDeveloper = True\n",
        "height = 160.56\n",
        "print(type(name))\n",
        "print(type(age))\n",
        "print(type(isDeveloper))\n",
        "print(type(height))"
      ],
      "metadata": {
        "colab": {
          "base_uri": "https://localhost:8080/"
        },
        "id": "IwdsRIVL9sf4",
        "outputId": "4b4a3390-0a6b-418f-fad2-39424bfc8e2d"
      },
      "execution_count": 6,
      "outputs": [
        {
          "output_type": "stream",
          "name": "stdout",
          "text": [
            "<class 'str'>\n",
            "<class 'int'>\n",
            "<class 'bool'>\n",
            "<class 'float'>\n"
          ]
        }
      ]
    },
    {
      "cell_type": "markdown",
      "source": [
        "# USER INPUT"
      ],
      "metadata": {
        "id": "masiYMlEAgkN"
      }
    },
    {
      "cell_type": "code",
      "source": [
        "userInput = input(\"enter the name\")\n",
        "print(userInput)"
      ],
      "metadata": {
        "colab": {
          "base_uri": "https://localhost:8080/"
        },
        "id": "1cNoINq1-tCn",
        "outputId": "70000140-2f37-4a0f-9cb7-06cf0e02cc6a"
      },
      "execution_count": 8,
      "outputs": [
        {
          "output_type": "stream",
          "name": "stdout",
          "text": [
            "enter the name Hari\n",
            " Hari\n"
          ]
        }
      ]
    },
    {
      "cell_type": "markdown",
      "source": [
        "# Type Conversion\n",
        "  tip the input will always return a string"
      ],
      "metadata": {
        "id": "LeN0ApyTBFg3"
      }
    },
    {
      "cell_type": "code",
      "source": [
        "age = int(input(\"Enter your age\" ))\n",
        "withoutTypeAge = input(\"Enter your age without type conversion\")\n",
        "print(type(age))\n",
        "print(type(withoutTypeAge))"
      ],
      "metadata": {
        "colab": {
          "base_uri": "https://localhost:8080/"
        },
        "id": "ozrvCqHCBSV3",
        "outputId": "4b7703df-c3b6-46b6-a378-0c45a19142c1"
      },
      "execution_count": 1,
      "outputs": [
        {
          "output_type": "stream",
          "name": "stdout",
          "text": [
            "Enter your age20\n",
            "Enter your age without type conversion20\n",
            "<class 'int'>\n",
            "<class 'str'>\n"
          ]
        }
      ]
    },
    {
      "cell_type": "markdown",
      "source": [
        "# Control Flow (if, elif, else)"
      ],
      "metadata": {
        "id": "3yYYppVSCReX"
      }
    },
    {
      "cell_type": "code",
      "source": [
        "age = int(input(\"Enter your age \"))\n",
        "if age < 18 and age > 0:\n",
        "   print(\"child\")\n",
        "elif age >= 18:\n",
        "   print(\"Adult\")\n",
        "else:\n",
        "   print(\"you must enter a wrong age or it is not a number\")"
      ],
      "metadata": {
        "colab": {
          "base_uri": "https://localhost:8080/"
        },
        "id": "RLL3TkLGBuCK",
        "outputId": "9b6db1f8-4b8d-4104-f9f4-fbf482171bc6"
      },
      "execution_count": 10,
      "outputs": [
        {
          "output_type": "stream",
          "name": "stdout",
          "text": [
            "Enter your age -1\n",
            "you must enter a wrong age or it is not a number\n"
          ]
        }
      ]
    },
    {
      "cell_type": "markdown",
      "source": [
        "# Loops"
      ],
      "metadata": {
        "id": "sfWNk4jbOuPq"
      }
    },
    {
      "cell_type": "markdown",
      "source": [
        "# for loop\n",
        "\n"
      ],
      "metadata": {
        "id": "DGF5jKG-O3Wv"
      }
    },
    {
      "cell_type": "code",
      "source": [
        "for i in range(5):\n",
        "   print(i);"
      ],
      "metadata": {
        "colab": {
          "base_uri": "https://localhost:8080/"
        },
        "id": "laR0Q8TKMPwt",
        "outputId": "6953724f-2974-4cff-abc2-1c6783a464aa"
      },
      "execution_count": 13,
      "outputs": [
        {
          "output_type": "stream",
          "name": "stdout",
          "text": [
            "0\n",
            "1\n",
            "2\n",
            "3\n",
            "4\n"
          ]
        }
      ]
    },
    {
      "cell_type": "code",
      "source": [
        "for char in \"PYTHON\":\n",
        "    print(char)"
      ],
      "metadata": {
        "colab": {
          "base_uri": "https://localhost:8080/"
        },
        "id": "zzj294IIPHXa",
        "outputId": "6e09a8c5-4fc2-4bec-868a-7315fe60f026"
      },
      "execution_count": 15,
      "outputs": [
        {
          "output_type": "stream",
          "name": "stdout",
          "text": [
            "P\n",
            "Y\n",
            "T\n",
            "H\n",
            "O\n",
            "N\n"
          ]
        }
      ]
    },
    {
      "cell_type": "code",
      "source": [
        "#list is the array in python\n",
        "list = [1,2,3]\n",
        "for value in list:\n",
        "   print(value)"
      ],
      "metadata": {
        "colab": {
          "base_uri": "https://localhost:8080/"
        },
        "id": "N3STsdPzPx2e",
        "outputId": "5b1703c8-507c-40ac-a550-b798611ede01"
      },
      "execution_count": 20,
      "outputs": [
        {
          "output_type": "stream",
          "name": "stdout",
          "text": [
            "1\n",
            "2\n",
            "3\n"
          ]
        }
      ]
    },
    {
      "cell_type": "code",
      "source": [],
      "metadata": {
        "id": "u2CI37poP8am"
      },
      "execution_count": null,
      "outputs": []
    },
    {
      "cell_type": "markdown",
      "source": [
        "# While Loop"
      ],
      "metadata": {
        "id": "0eVDEy9rQ8iG"
      }
    },
    {
      "cell_type": "code",
      "source": [
        "count = 0\n",
        "while count < 5:\n",
        "   print(count)\n",
        "   count +=1"
      ],
      "metadata": {
        "colab": {
          "base_uri": "https://localhost:8080/"
        },
        "id": "HqQxSHGHRCN7",
        "outputId": "b0bd09a2-250a-448d-a093-c3e303fdea76"
      },
      "execution_count": 2,
      "outputs": [
        {
          "output_type": "stream",
          "name": "stdout",
          "text": [
            "0\n",
            "1\n",
            "2\n",
            "3\n",
            "4\n"
          ]
        }
      ]
    },
    {
      "cell_type": "markdown",
      "source": [
        "# Loop Control Statement"
      ],
      "metadata": {
        "id": "aBmDdXTFTSxC"
      }
    },
    {
      "cell_type": "code",
      "source": [
        "for i in range(5):\n",
        "  if i == 3:\n",
        "    break\n",
        "  print(i)\n",
        ""
      ],
      "metadata": {
        "colab": {
          "base_uri": "https://localhost:8080/"
        },
        "id": "Xo2gfUJRREcM",
        "outputId": "7eb74f0c-9764-4289-8bbc-4975e44e6d6b"
      },
      "execution_count": 5,
      "outputs": [
        {
          "output_type": "stream",
          "name": "stdout",
          "text": [
            "0\n",
            "1\n",
            "2\n"
          ]
        }
      ]
    },
    {
      "cell_type": "code",
      "source": [
        "for i in range(5):\n",
        "  if i == 3:\n",
        "    continue\n",
        "  print(i)"
      ],
      "metadata": {
        "colab": {
          "base_uri": "https://localhost:8080/"
        },
        "id": "XxPfsH8STgPI",
        "outputId": "93d01a71-d9f6-4a0d-f6fb-9271a44699fb"
      },
      "execution_count": 7,
      "outputs": [
        {
          "output_type": "stream",
          "name": "stdout",
          "text": [
            "0\n",
            "1\n",
            "2\n",
            "4\n"
          ]
        }
      ]
    },
    {
      "cell_type": "code",
      "source": [
        "for i in range(5):\n",
        "  if i == 3:\n",
        "    pass\n",
        "  print(i)"
      ],
      "metadata": {
        "colab": {
          "base_uri": "https://localhost:8080/"
        },
        "id": "OPFXTZGGUNzT",
        "outputId": "e791bd75-4e25-43ed-a8ff-b4982a84b169"
      },
      "execution_count": 9,
      "outputs": [
        {
          "output_type": "stream",
          "name": "stdout",
          "text": [
            "0\n",
            "1\n",
            "2\n",
            "3\n",
            "4\n"
          ]
        }
      ]
    },
    {
      "cell_type": "code",
      "source": [
        "fruits = [\"apple\", \"banana\", \"cherry\"]\n",
        "for index, fruit in enumerate(fruits):\n",
        "    print(index, fruit)"
      ],
      "metadata": {
        "colab": {
          "base_uri": "https://localhost:8080/"
        },
        "id": "6klpx5yLUlD2",
        "outputId": "c451df27-529f-410c-8a57-39fe4b25911f"
      },
      "execution_count": 10,
      "outputs": [
        {
          "output_type": "stream",
          "name": "stdout",
          "text": [
            "0 apple\n",
            "1 banana\n",
            "2 cherry\n"
          ]
        }
      ]
    },
    {
      "cell_type": "markdown",
      "source": [
        "# FUNCTION\n"
      ],
      "metadata": {
        "id": "vlyL2yGtVOyp"
      }
    },
    {
      "cell_type": "code",
      "source": [
        "def greet(name):\n",
        "  print(f\"hello {name}\")\n",
        "greet(\"Alice\")"
      ],
      "metadata": {
        "colab": {
          "base_uri": "https://localhost:8080/"
        },
        "id": "7ThGVYnvVSLz",
        "outputId": "f313a03b-a3f9-4f12-8104-ef1726cb04ab"
      },
      "execution_count": 12,
      "outputs": [
        {
          "output_type": "stream",
          "name": "stdout",
          "text": [
            "hello Alice\n"
          ]
        }
      ]
    },
    {
      "cell_type": "code",
      "source": [],
      "metadata": {
        "id": "jH3scHP7VVW5"
      },
      "execution_count": null,
      "outputs": []
    },
    {
      "cell_type": "markdown",
      "source": [
        "# List"
      ],
      "metadata": {
        "id": "Y7pLPLfLVxXe"
      }
    },
    {
      "cell_type": "code",
      "source": [
        "list = [\"god\", 'parents', 'friends']\n",
        "for index,value in enumerate(list):\n",
        "  print(value)"
      ],
      "metadata": {
        "colab": {
          "base_uri": "https://localhost:8080/"
        },
        "id": "voX8omSjV0mC",
        "outputId": "22cbd479-5d15-4e7b-e523-c4c6431cc890"
      },
      "execution_count": 15,
      "outputs": [
        {
          "output_type": "stream",
          "name": "stdout",
          "text": [
            "god\n",
            "parents\n",
            "friends\n"
          ]
        }
      ]
    },
    {
      "cell_type": "code",
      "source": [],
      "metadata": {
        "id": "EeOq1ZH1WLlg"
      },
      "execution_count": null,
      "outputs": []
    },
    {
      "cell_type": "markdown",
      "source": [
        "# Dictinaries"
      ],
      "metadata": {
        "id": "u-srwwtCWoUH"
      }
    },
    {
      "cell_type": "code",
      "source": [
        "person = { \"name\": \"alice\", \"age\":  35}\n",
        "for per in person:\n",
        "  print(person[per])"
      ],
      "metadata": {
        "colab": {
          "base_uri": "https://localhost:8080/"
        },
        "id": "G2_fIlx7W4th",
        "outputId": "4b3c5371-2c7d-4aa7-d584-f21b3e32b72e"
      },
      "execution_count": 18,
      "outputs": [
        {
          "output_type": "stream",
          "name": "stdout",
          "text": [
            "alice\n",
            "35\n"
          ]
        }
      ]
    },
    {
      "cell_type": "code",
      "source": [],
      "metadata": {
        "id": "8vihG8PSXAfQ"
      },
      "execution_count": null,
      "outputs": []
    }
  ]
}